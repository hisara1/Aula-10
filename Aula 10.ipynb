{
 "cells": [
  {
   "cell_type": "code",
   "execution_count": 1,
   "metadata": {},
   "outputs": [],
   "source": [
    "#Atividade em sala"
   ]
  },
  {
   "cell_type": "code",
   "execution_count": 11,
   "metadata": {},
   "outputs": [
    {
     "name": "stdout",
     "output_type": "stream",
     "text": [
      "matriz exemplo\n",
      "[[3. 2. 4.]\n",
      " [1. 1. 2.]\n",
      " [4. 3. 2.]]\n",
      "Matriz L\n",
      "[[1.         0.         0.        ]\n",
      " [0.33333333 1.         0.        ]\n",
      " [1.33333333 1.         1.        ]]\n",
      "        \n",
      "Matriz U\n",
      "[[ 3.          2.          4.        ]\n",
      " [ 0.          0.33333333  0.66666667]\n",
      " [ 0.          0.         -4.        ]]\n",
      "        \n",
      "Multiplicacao de L por U\n",
      "[[3. 2. 4.]\n",
      " [1. 1. 2.]\n",
      " [4. 3. 2.]]\n",
      " \n",
      "Y =  [1.0, 1.6666666666666667, 0]\n",
      " \n",
      "X =  [-3.0, 5.0, -0.0]\n"
     ]
    }
   ],
   "source": [
    "U = np.array([[3.,(2.),(4.)], [1.,1.,(2.)], [(4.),(3.),(2.)]])\n",
    "b = np.array([1.,2.,3.])\n",
    "L = np.zeros([3,3])\n",
    "\n",
    "print(\"matriz exemplo\")\n",
    "print(U)\n",
    "\n",
    "def FatoracaoLU(U,b):\n",
    "    n = len(U)\n",
    "    m = n*[0]\n",
    "    \n",
    "    for k in range(0,n):\n",
    "        L[k][k] = 1\n",
    "        for i in range(k+1,n):\n",
    "            m=U[i][k]/U[k][k]\n",
    "            U[i][k] = 0\n",
    "            L[i][k] = m\n",
    "            L\n",
    "            for j in range(k+1,n):\n",
    "                U[i][j] = U[i][j] - m*U[k][j]\n",
    "    return L, U\n",
    "                \n",
    "\n",
    "\n",
    "FatoracaoLU(U,b)\n",
    "\n",
    "print(\"Matriz L\")\n",
    "print(L)\n",
    "print(\"        \")\n",
    "print(\"Matriz U\")\n",
    "print(U)\n",
    "print(\"        \")\n",
    "print(\"Multiplicacao de L por U\")\n",
    "LU = np.dot(L,U)\n",
    "print(LU)\n",
    "\n",
    "\n",
    "nL = len(L)\n",
    "y = nL*[0]\n",
    "\n",
    "nU = len(U)\n",
    "x = nU*[0]\n",
    "\n",
    "def solucaoLy(L,b, n):\n",
    "    y[0] = b[0]/L[0][0]\n",
    "    for k in range(1,n-1):\n",
    "        s = 0\n",
    "        for j in range(k-1,n):\n",
    "            s = s + L[k][j]*y[j]\n",
    "        y[k] = (b[k]-s)/L[k][k]   \n",
    "        \n",
    "    return y\n",
    "  \n",
    "solucaoLy(L,b,nL)\n",
    "\n",
    "print(\" \")\n",
    "print(\"Y = \",y)\n",
    "\n",
    "def solucaoUx(U,y,n):\n",
    "    x[n-1] = y[n-1]/U[n-1][n-1]\n",
    "    for k in range(n-1,-1,-1):\n",
    "        s = 0\n",
    "        for j in range(k+1,n):\n",
    "            s = s + U[k][j]*x[j]\n",
    "        x[k] = (y[k]-s)/U[k][k]                 \n",
    "    return x  \n",
    "  \n",
    "  \n",
    "solucaoUx(U,y, nU)\n",
    "\n",
    "print(\" \")\n",
    "print(\"X = \",x)"
   ]
  },
  {
   "cell_type": "code",
   "execution_count": 12,
   "metadata": {},
   "outputs": [],
   "source": [
    "\n",
    "import matplotlib.pyplot as plt\n",
    "import numpy as np"
   ]
  },
  {
   "cell_type": "code",
   "execution_count": 13,
   "metadata": {},
   "outputs": [
    {
     "ename": "NameError",
     "evalue": "name 'fatoresLU' is not defined",
     "output_type": "error",
     "traceback": [
      "\u001b[1;31m---------------------------------------------------------------------------\u001b[0m",
      "\u001b[1;31mNameError\u001b[0m                                 Traceback (most recent call last)",
      "\u001b[1;32m<ipython-input-13-3c22d5fb3153>\u001b[0m in \u001b[0;36m<module>\u001b[1;34m()\u001b[0m\n\u001b[0;32m      1\u001b[0m \u001b[0mA\u001b[0m \u001b[1;33m=\u001b[0m \u001b[0mnp\u001b[0m\u001b[1;33m.\u001b[0m\u001b[0mmatrix\u001b[0m\u001b[1;33m(\u001b[0m\u001b[1;33m[\u001b[0m\u001b[1;33m[\u001b[0m\u001b[1;36m3\u001b[0m\u001b[1;33m,\u001b[0m\u001b[1;36m2\u001b[0m\u001b[1;33m,\u001b[0m\u001b[1;36m4\u001b[0m\u001b[1;33m]\u001b[0m\u001b[1;33m,\u001b[0m\u001b[1;33m[\u001b[0m\u001b[1;36m1\u001b[0m\u001b[1;33m,\u001b[0m\u001b[1;36m1\u001b[0m\u001b[1;33m,\u001b[0m\u001b[1;36m2\u001b[0m\u001b[1;33m]\u001b[0m\u001b[1;33m,\u001b[0m\u001b[1;33m[\u001b[0m\u001b[1;36m4\u001b[0m\u001b[1;33m,\u001b[0m\u001b[1;36m3\u001b[0m\u001b[1;33m,\u001b[0m\u001b[1;33m-\u001b[0m\u001b[1;36m2\u001b[0m\u001b[1;33m]\u001b[0m\u001b[1;33m]\u001b[0m\u001b[1;33m)\u001b[0m\u001b[1;33m\u001b[0m\u001b[0m\n\u001b[0;32m      2\u001b[0m \u001b[1;33m\u001b[0m\u001b[0m\n\u001b[1;32m----> 3\u001b[1;33m \u001b[0ma1\u001b[0m\u001b[1;33m,\u001b[0m\u001b[0ma2\u001b[0m \u001b[1;33m=\u001b[0m \u001b[0mfatoresLU\u001b[0m\u001b[1;33m(\u001b[0m\u001b[0mA\u001b[0m\u001b[1;33m)\u001b[0m\u001b[1;33m\u001b[0m\u001b[0m\n\u001b[0m\u001b[0;32m      4\u001b[0m \u001b[0mM\u001b[0m \u001b[1;33m=\u001b[0m \u001b[0mnp\u001b[0m\u001b[1;33m.\u001b[0m\u001b[0mmatrix\u001b[0m\u001b[1;33m(\u001b[0m\u001b[1;33m[\u001b[0m\u001b[1;33m[\u001b[0m\u001b[1;36m1\u001b[0m\u001b[1;33m,\u001b[0m\u001b[1;36m0\u001b[0m\u001b[1;33m,\u001b[0m\u001b[1;36m0\u001b[0m\u001b[1;33m]\u001b[0m\u001b[1;33m,\u001b[0m\u001b[1;33m[\u001b[0m\u001b[1;33m(\u001b[0m\u001b[0ma1\u001b[0m\u001b[1;33m*\u001b[0m\u001b[1;33m(\u001b[0m\u001b[1;33m-\u001b[0m\u001b[1;36m1\u001b[0m\u001b[1;33m)\u001b[0m\u001b[1;33m)\u001b[0m\u001b[1;33m,\u001b[0m\u001b[1;36m1\u001b[0m\u001b[1;33m,\u001b[0m\u001b[1;36m0\u001b[0m\u001b[1;33m]\u001b[0m\u001b[1;33m,\u001b[0m\u001b[1;33m[\u001b[0m\u001b[1;33m(\u001b[0m\u001b[0ma2\u001b[0m\u001b[1;33m*\u001b[0m\u001b[1;33m(\u001b[0m\u001b[1;33m-\u001b[0m\u001b[1;36m1\u001b[0m\u001b[1;33m)\u001b[0m\u001b[1;33m)\u001b[0m\u001b[1;33m,\u001b[0m\u001b[1;36m0\u001b[0m\u001b[1;33m,\u001b[0m\u001b[1;36m1\u001b[0m\u001b[1;33m]\u001b[0m\u001b[1;33m]\u001b[0m\u001b[1;33m)\u001b[0m\u001b[1;33m\u001b[0m\u001b[0m\n\u001b[0;32m      5\u001b[0m \u001b[1;33m\u001b[0m\u001b[0m\n",
      "\u001b[1;31mNameError\u001b[0m: name 'fatoresLU' is not defined"
     ]
    }
   ],
   "source": [
    "A = np.matrix([[3,2,4],[1,1,2],[4,3,-2]])\n",
    "\n",
    "a1,a2 = fatoresLU(A)\n",
    "M = np.matrix([[1,0,0],[(a1*(-1)),1,0],[(a2*(-1)),0,1]])\n",
    "\n",
    "print(np.dot(M,b))"
   ]
  },
  {
   "cell_type": "code",
   "execution_count": 14,
   "metadata": {},
   "outputs": [
    {
     "ename": "NameError",
     "evalue": "name 'fatoresLU' is not defined",
     "output_type": "error",
     "traceback": [
      "\u001b[1;31m---------------------------------------------------------------------------\u001b[0m",
      "\u001b[1;31mNameError\u001b[0m                                 Traceback (most recent call last)",
      "\u001b[1;32m<ipython-input-14-40cfaebf4f64>\u001b[0m in \u001b[0;36m<module>\u001b[1;34m()\u001b[0m\n\u001b[0;32m      2\u001b[0m \u001b[1;33m\u001b[0m\u001b[0m\n\u001b[0;32m      3\u001b[0m \u001b[0mA\u001b[0m \u001b[1;33m=\u001b[0m \u001b[0mnp\u001b[0m\u001b[1;33m.\u001b[0m\u001b[0mmatrix\u001b[0m\u001b[1;33m(\u001b[0m\u001b[1;33m[\u001b[0m\u001b[1;33m[\u001b[0m\u001b[1;36m3\u001b[0m\u001b[1;33m,\u001b[0m\u001b[1;36m2\u001b[0m\u001b[1;33m,\u001b[0m\u001b[1;36m4\u001b[0m\u001b[1;33m]\u001b[0m\u001b[1;33m,\u001b[0m\u001b[1;33m[\u001b[0m\u001b[1;36m1\u001b[0m\u001b[1;33m,\u001b[0m\u001b[1;36m1\u001b[0m\u001b[1;33m,\u001b[0m\u001b[1;36m2\u001b[0m\u001b[1;33m]\u001b[0m\u001b[1;33m,\u001b[0m\u001b[1;33m[\u001b[0m\u001b[1;36m4\u001b[0m\u001b[1;33m,\u001b[0m\u001b[1;36m3\u001b[0m\u001b[1;33m,\u001b[0m\u001b[1;36m2\u001b[0m\u001b[1;33m]\u001b[0m\u001b[1;33m]\u001b[0m\u001b[1;33m)\u001b[0m\u001b[1;33m\u001b[0m\u001b[0m\n\u001b[1;32m----> 4\u001b[1;33m \u001b[0ma1\u001b[0m\u001b[1;33m,\u001b[0m\u001b[0ma2\u001b[0m \u001b[1;33m=\u001b[0m \u001b[0mfatoresLU\u001b[0m\u001b[1;33m(\u001b[0m\u001b[0mA\u001b[0m\u001b[1;33m)\u001b[0m\u001b[1;33m\u001b[0m\u001b[0m\n\u001b[0m\u001b[0;32m      5\u001b[0m \u001b[0mM\u001b[0m \u001b[1;33m=\u001b[0m \u001b[0mnp\u001b[0m\u001b[1;33m.\u001b[0m\u001b[0mmatrix\u001b[0m\u001b[1;33m(\u001b[0m\u001b[1;33m[\u001b[0m\u001b[1;33m[\u001b[0m\u001b[1;36m1\u001b[0m\u001b[1;33m,\u001b[0m\u001b[1;36m0\u001b[0m\u001b[1;33m,\u001b[0m\u001b[1;36m0\u001b[0m\u001b[1;33m]\u001b[0m\u001b[1;33m,\u001b[0m\u001b[1;33m[\u001b[0m\u001b[1;33m(\u001b[0m\u001b[0ma1\u001b[0m\u001b[1;33m*\u001b[0m\u001b[1;33m(\u001b[0m\u001b[1;33m-\u001b[0m\u001b[1;36m1\u001b[0m\u001b[1;33m)\u001b[0m\u001b[1;33m)\u001b[0m\u001b[1;33m,\u001b[0m\u001b[1;36m1\u001b[0m\u001b[1;33m,\u001b[0m\u001b[1;36m0\u001b[0m\u001b[1;33m]\u001b[0m\u001b[1;33m,\u001b[0m\u001b[1;33m[\u001b[0m\u001b[1;33m(\u001b[0m\u001b[0ma2\u001b[0m\u001b[1;33m*\u001b[0m\u001b[1;33m(\u001b[0m\u001b[1;33m-\u001b[0m\u001b[1;36m1\u001b[0m\u001b[1;33m)\u001b[0m\u001b[1;33m)\u001b[0m\u001b[1;33m,\u001b[0m\u001b[1;36m0\u001b[0m\u001b[1;33m,\u001b[0m\u001b[1;36m1\u001b[0m\u001b[1;33m]\u001b[0m\u001b[1;33m]\u001b[0m\u001b[1;33m)\u001b[0m\u001b[1;33m\u001b[0m\u001b[0m\n\u001b[0;32m      6\u001b[0m \u001b[1;33m\u001b[0m\u001b[0m\n",
      "\u001b[1;31mNameError\u001b[0m: name 'fatoresLU' is not defined"
     ]
    }
   ],
   "source": [
    "import numpy as np\n",
    "\n",
    "A = np.matrix([[3,2,4],[1,1,2],[4,3,2]])\n",
    "a1,a2 = fatoresLU(A)\n",
    "M = np.matrix([[1,0,0],[(a1*(-1)),1,0],[(a2*(-1)),0,1]])\n",
    "\n",
    "if(np.linalg.det(M)!=0):\n",
    "    print(\"Diferente de zero\")\n",
    "\n",
    "def fatoresLU(A): \n",
    "  \n",
    "    m12 = A[ 2 - 1, 1 - 1 ] / A[ 1 - 1, 1-1 ]\n",
    "    m21 = A[ 3 - 1, 1 - 1 ] / A[ 1 - 1, 1-1 ] \n",
    "    \n",
    "    return m12, m21\n",
    "\n",
    "    \n",
    "\n",
    "\n",
    "MA = M*A\n",
    "print(MA)"
   ]
  },
  {
   "cell_type": "code",
   "execution_count": 15,
   "metadata": {},
   "outputs": [],
   "source": [
    "#Resolução dos sistemas triangulares gerados"
   ]
  },
  {
   "cell_type": "code",
   "execution_count": 16,
   "metadata": {},
   "outputs": [
    {
     "ename": "NameError",
     "evalue": "name 'M' is not defined",
     "output_type": "error",
     "traceback": [
      "\u001b[1;31m---------------------------------------------------------------------------\u001b[0m",
      "\u001b[1;31mNameError\u001b[0m                                 Traceback (most recent call last)",
      "\u001b[1;32m<ipython-input-16-0d1fb64a98e6>\u001b[0m in \u001b[0;36m<module>\u001b[1;34m()\u001b[0m\n\u001b[0;32m     18\u001b[0m \u001b[1;33m\u001b[0m\u001b[0m\n\u001b[0;32m     19\u001b[0m \u001b[1;33m\u001b[0m\u001b[0m\n\u001b[1;32m---> 20\u001b[1;33m \u001b[0mresultadoEncontradoComPiv\u001b[0m \u001b[1;33m=\u001b[0m \u001b[0mresolSisTriang\u001b[0m\u001b[1;33m(\u001b[0m\u001b[0mM\u001b[0m\u001b[1;33m,\u001b[0m\u001b[0mb\u001b[0m\u001b[1;33m)\u001b[0m\u001b[1;33m\u001b[0m\u001b[0m\n\u001b[0m\u001b[0;32m     21\u001b[0m \u001b[0mresultadoEncontradoSemPiv\u001b[0m \u001b[1;33m=\u001b[0m \u001b[0mresolSisTriang\u001b[0m\u001b[1;33m(\u001b[0m\u001b[0msemPiv\u001b[0m\u001b[1;33m,\u001b[0m\u001b[0mb\u001b[0m\u001b[1;33m)\u001b[0m\u001b[1;33m\u001b[0m\u001b[0m\n\u001b[0;32m     22\u001b[0m \u001b[0mprint\u001b[0m\u001b[1;33m(\u001b[0m\u001b[1;34m\"Resultado com pivotamento parcial\"\u001b[0m\u001b[1;33m,\u001b[0m \u001b[0mresultadoEncontradoComPiv\u001b[0m\u001b[1;33m)\u001b[0m\u001b[1;33m\u001b[0m\u001b[0m\n",
      "\u001b[1;31mNameError\u001b[0m: name 'M' is not defined"
     ]
    }
   ],
   "source": [
    "#Solução\n",
    "def resolSisTriang(a,b):\n",
    "    n = len(a)\n",
    "    x = n*[0]\n",
    "    x[n-1] = eval(b[n-1])/eval(a[n-1][n-1])\n",
    "    for k in range(n-1,-1,-1):\n",
    "        s = 0\n",
    "        for j in range(k+1,n):\n",
    "            s = s + eval(a[k][j])*x[j]\n",
    "        #print(\"s\",s)   \n",
    "        #print(\"x[k]\",x[k])\n",
    "        #print(\"b[k]\",b[k])\n",
    "        #print(\"a[k][k]\",a[k][k])\n",
    "        x[k] = (eval(b[k]) - s)/eval(a[k][k])     \n",
    "        #print(\"X[k]\",x[k])\n",
    "    return x\n",
    "\n",
    "\n",
    "\n",
    "resultadoEncontradoComPiv = resolSisTriang(M,b)\n",
    "resultadoEncontradoSemPiv = resolSisTriang(semPiv,b)\n",
    "print(\"Resultado com pivotamento parcial\", resultadoEncontradoComPiv)\n",
    "print(\"              \")\n",
    "print(\"Resultado sem pivotamento parcial\", resultadoEncontradoSemPiv)"
   ]
  },
  {
   "cell_type": "code",
   "execution_count": null,
   "metadata": {},
   "outputs": [],
   "source": []
  },
  {
   "cell_type": "code",
   "execution_count": null,
   "metadata": {},
   "outputs": [],
   "source": []
  },
  {
   "cell_type": "code",
   "execution_count": null,
   "metadata": {},
   "outputs": [],
   "source": []
  },
  {
   "cell_type": "code",
   "execution_count": null,
   "metadata": {},
   "outputs": [],
   "source": []
  }
 ],
 "metadata": {
  "kernelspec": {
   "display_name": "Python 3",
   "language": "python",
   "name": "python3"
  },
  "language_info": {
   "codemirror_mode": {
    "name": "ipython",
    "version": 3
   },
   "file_extension": ".py",
   "mimetype": "text/x-python",
   "name": "python",
   "nbconvert_exporter": "python",
   "pygments_lexer": "ipython3",
   "version": "3.6.5"
  }
 },
 "nbformat": 4,
 "nbformat_minor": 2
}
